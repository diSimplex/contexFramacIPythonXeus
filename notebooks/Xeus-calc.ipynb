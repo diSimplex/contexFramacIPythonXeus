{
 "cells": [
  {
   "cell_type": "markdown",
   "metadata": {},
   "source": [
    "# Xeus-calc \n",
    "\n",
    "Xeus-calc is the implementation of a calculator as a jupyter kernel through Xeus.\n",
    "\n",
    "The calculator's implementation is based on the **Reverse Polish Notation** (RPN), also known as **postfix notation**, to understand the order of operations of any mathematical expression.\n",
    "\n",
    "**RPN** is a mathematical notation in which operators follow their operands, thus showing the priority order and removing brackets.\n",
    "Therefore, the mathematical expression is first parsed to turn it into RPN and is then treated as such to do the computation. \n",
    "\n",
    "All of that is shown through the various displays when you run the cells.\n",
    "\n",
    "For a quick example of RPN : \n",
    "\n",
    "12 + 3 * (43 + 2)\n",
    "\n",
    "turns into :\n",
    "\n",
    "43 2 + 3 * 12 +"
   ]
  },
  {
   "cell_type": "markdown",
   "metadata": {},
   "source": [
    "### Addition\n",
    "\n",
    "Mathematical expression including a simple addition between two numbers"
   ]
  },
  {
   "cell_type": "code",
   "execution_count": 1,
   "metadata": {},
   "outputs": [
    {
     "name": "stdout",
     "output_type": "stream",
     "text": [
      "RPN = 12 3 + \n",
      "Input\tOperation\tStack after\n",
      "12\tPush\t\t12 \n",
      "3\tPush\t\t12 3 \n",
      "+\tOperate\t\t15 \n"
     ]
    },
    {
     "data": {
      "text/plain": [
       "Result = 15.000000"
      ]
     },
     "execution_count": 1,
     "metadata": {},
     "output_type": "execute_result"
    }
   ],
   "source": [
    "12+3"
   ]
  },
  {
   "cell_type": "markdown",
   "metadata": {},
   "source": [
    "### Multiplication\n",
    "\n",
    "Mathematical expression including a simple multiplication between two numbers"
   ]
  },
  {
   "cell_type": "code",
   "execution_count": 2,
   "metadata": {},
   "outputs": [
    {
     "name": "stdout",
     "output_type": "stream",
     "text": [
      "RPN = 5 7 * \n",
      "Input\tOperation\tStack after\n",
      "5\tPush\t\t5 \n",
      "7\tPush\t\t5 7 \n",
      "*\tOperate\t\t35 \n"
     ]
    },
    {
     "data": {
      "text/plain": [
       "Result = 35.000000"
      ]
     },
     "execution_count": 2,
     "metadata": {},
     "output_type": "execute_result"
    }
   ],
   "source": [
    "5*7"
   ]
  },
  {
   "cell_type": "markdown",
   "metadata": {},
   "source": [
    "### Priority in operation\n",
    "\n",
    "Mathematical expression including several operations treated in the right order"
   ]
  },
  {
   "cell_type": "code",
   "execution_count": 3,
   "metadata": {},
   "outputs": [
    {
     "name": "stdout",
     "output_type": "stream",
     "text": [
      "RPN = 3 5 4 * 2 / + 1 - \n",
      "Input\tOperation\tStack after\n",
      "3\tPush\t\t3 \n",
      "5\tPush\t\t3 5 \n",
      "4\tPush\t\t3 5 4 \n",
      "*\tOperate\t\t3 20 \n",
      "2\tPush\t\t3 20 2 \n",
      "/\tOperate\t\t3 10 \n",
      "+\tOperate\t\t13 \n",
      "1\tPush\t\t13 1 \n",
      "-\tOperate\t\t12 \n"
     ]
    },
    {
     "data": {
      "text/plain": [
       "Result = 12.000000"
      ]
     },
     "execution_count": 3,
     "metadata": {},
     "output_type": "execute_result"
    }
   ],
   "source": [
    "3+5*4/2-1"
   ]
  },
  {
   "cell_type": "markdown",
   "metadata": {},
   "source": [
    "### Brackets\n",
    "\n",
    "Mathematical expression inculding brackets"
   ]
  },
  {
   "cell_type": "code",
   "execution_count": 4,
   "metadata": {},
   "outputs": [
    {
     "name": "stdout",
     "output_type": "stream",
     "text": [
      "RPN = 3 5 3 + * \n",
      "Input\tOperation\tStack after\n",
      "3\tPush\t\t3 \n",
      "5\tPush\t\t3 5 \n",
      "3\tPush\t\t3 5 3 \n",
      "+\tOperate\t\t3 8 \n",
      "*\tOperate\t\t24 \n"
     ]
    },
    {
     "data": {
      "text/plain": [
       "Result = 24.000000"
      ]
     },
     "execution_count": 4,
     "metadata": {},
     "output_type": "execute_result"
    }
   ],
   "source": [
    "3*(5+3)"
   ]
  },
  {
   "cell_type": "markdown",
   "metadata": {},
   "source": [
    "### Power\n",
    "\n",
    "Mathematical expression including powers"
   ]
  },
  {
   "cell_type": "code",
   "execution_count": 5,
   "metadata": {},
   "outputs": [
    {
     "name": "stdout",
     "output_type": "stream",
     "text": [
      "RPN = 5 3 + 2 ^ \n",
      "Input\tOperation\tStack after\n",
      "5\tPush\t\t5 \n",
      "3\tPush\t\t5 3 \n",
      "+\tOperate\t\t8 \n",
      "2\tPush\t\t8 2 \n",
      "^\tOperate\t\t64 \n"
     ]
    },
    {
     "data": {
      "text/plain": [
       "Result = 64.000000"
      ]
     },
     "execution_count": 5,
     "metadata": {},
     "output_type": "execute_result"
    }
   ],
   "source": [
    "(5+3)^2"
   ]
  },
  {
   "cell_type": "markdown",
   "metadata": {},
   "source": [
    "### Complex expression\n",
    "\n",
    "Mathematical expression including a lot of different operations and random spaces"
   ]
  },
  {
   "cell_type": "code",
   "execution_count": 6,
   "metadata": {},
   "outputs": [
    {
     "name": "stdout",
     "output_type": "stream",
     "text": [
      "RPN = 14 2 3 2 + * 2 2 ^ / + 3 - 16 + \n",
      "Input\tOperation\tStack after\n",
      "14\tPush\t\t14 \n",
      "2\tPush\t\t14 2 \n",
      "3\tPush\t\t14 2 3 \n",
      "2\tPush\t\t14 2 3 2 \n",
      "+\tOperate\t\t14 2 5 \n",
      "*\tOperate\t\t14 10 \n",
      "2\tPush\t\t14 10 2 \n",
      "2\tPush\t\t14 10 2 2 \n",
      "^\tOperate\t\t14 10 4 \n",
      "/\tOperate\t\t14 2.5 \n",
      "+\tOperate\t\t16.5 \n",
      "3\tPush\t\t16.5 3 \n",
      "-\tOperate\t\t13.5 \n",
      "16\tPush\t\t13.5 16 \n",
      "+\tOperate\t\t29.5 \n"
     ]
    },
    {
     "data": {
      "text/plain": [
       "Result = 29.500000"
      ]
     },
     "execution_count": 6,
     "metadata": {},
     "output_type": "execute_result"
    }
   ],
   "source": [
    "14 + 2* (3+ 2) /2^ 2-3 +16"
   ]
  },
  {
   "cell_type": "markdown",
   "metadata": {},
   "source": [
    "# Errors management"
   ]
  },
  {
   "cell_type": "markdown",
   "metadata": {
    "tags": []
   },
   "source": [
    "### Wrong character\n",
    "\n",
    "Mathematical expression containing a character which is not recognized"
   ]
  },
  {
   "cell_type": "code",
   "execution_count": null,
   "metadata": {},
   "outputs": [],
   "source": [
    "3*52\"3"
   ]
  },
  {
   "cell_type": "markdown",
   "metadata": {},
   "source": [
    "### Missing parenthesis\n",
    "\n",
    "Mathematical expression missing some parenthesis"
   ]
  },
  {
   "cell_type": "code",
   "execution_count": 1,
   "metadata": {},
   "outputs": [
    {
     "name": "stderr",
     "output_type": "stream",
     "text": [
      "Syntax error:\n",
      "missing or misplaced parenthesis"
     ]
    }
   ],
   "source": [
    "(12+2*3-(1+2)"
   ]
  },
  {
   "cell_type": "markdown",
   "metadata": {},
   "source": [
    "### Missing operand\n",
    "\n",
    "Mathematical expression missing an operand"
   ]
  },
  {
   "cell_type": "code",
   "execution_count": 9,
   "metadata": {},
   "outputs": [
    {
     "name": "stdout",
     "output_type": "stream",
     "text": [
      "RPN = 12 + \n",
      "Input\tOperation\tStack after\n",
      "12\tPush\t\t12 \n",
      "+\t"
     ]
    },
    {
     "name": "stderr",
     "output_type": "stream",
     "text": [
      "\n",
      "Syntax error:\n",
      "missing operand"
     ]
    }
   ],
   "source": [
    "12+"
   ]
  },
  {
   "cell_type": "code",
   "execution_count": null,
   "metadata": {},
   "outputs": [],
   "source": []
  }
 ],
 "metadata": {
  "kernelspec": {
   "display_name": "xcalc",
   "language": "",
   "name": "xcalc"
  },
  "language_info": {
   "file_extension": "",
   "mimetype": "",
   "name": "calc",
   "version": ""
  }
 },
 "nbformat": 4,
 "nbformat_minor": 4
}
